{
 "cells": [
  {
   "cell_type": "code",
   "execution_count": 5,
   "metadata": {},
   "outputs": [],
   "source": [
    "import torch"
   ]
  },
  {
   "cell_type": "code",
   "execution_count": 6,
   "metadata": {},
   "outputs": [
    {
     "name": "stdout",
     "output_type": "stream",
     "text": [
      "torch.Size([5])\n",
      "tensor(15)\n",
      "torch.Size([])\n"
     ]
    }
   ],
   "source": [
    "tensor = torch.tensor([1, 2, 3, 4, 5])\n",
    "print(tensor.shape)\n",
    "s = torch.sum(tensor, dim=0)\n",
    "print(s)\n",
    "print(s.shape)"
   ]
  },
  {
   "cell_type": "code",
   "execution_count": 16,
   "metadata": {},
   "outputs": [
    {
     "name": "stdout",
     "output_type": "stream",
     "text": [
      "torch.Size([2, 3])\n",
      "\n",
      "Dimension: 0\n",
      "tensor([5, 7, 9])\n",
      "torch.Size([3])\n",
      "\n",
      "Dimension: 1\n",
      "tensor([ 6, 15])\n",
      "torch.Size([2])\n",
      "\n",
      "Dimension: -1\n",
      "tensor([ 6, 15])\n",
      "torch.Size([2])\n"
     ]
    }
   ],
   "source": [
    "tensor = torch.tensor([\n",
    "    [1, 2, 3], [4, 5, 6]\n",
    "])\n",
    "\n",
    "print(tensor.shape) # torch.Size([2, 3])\n",
    "print()\n",
    "\n",
    "print(\"Dimension: 0\")\n",
    "dim0 = torch.sum(tensor, dim=0)\n",
    "print(dim0) # tensor([5, 7, 9])\n",
    "print(dim0.shape) # torch.Size([3])\n",
    "print()\n",
    "\n",
    "print(\"Dimension: 1\")\n",
    "dim1 = torch.sum(tensor, dim=1) \n",
    "print(dim1) # tensor([6, 15])\n",
    "print(dim1.shape) # torch.Size([2])\n",
    "print()\n",
    "\n",
    "print(\"Dimension: -1\")\n",
    "dims = torch.sum(tensor, dim=-1)\n",
    "print(dims) # tensor([6, 15])\n",
    "print(dims.shape) # torch.Size([2])"
   ]
  },
  {
   "cell_type": "code",
   "execution_count": 21,
   "metadata": {},
   "outputs": [
    {
     "name": "stdout",
     "output_type": "stream",
     "text": [
      "torch.Size([2, 2, 3])\n",
      "\n",
      "Dimension: 0\n",
      "tensor([[ 6,  8, 10],\n",
      "        [10, 12,  2]])\n",
      "torch.Size([2, 3])\n",
      "\n",
      "Dimension: 1\n",
      "tensor([[ 4,  6,  9],\n",
      "        [12, 14,  3]])\n",
      "torch.Size([2, 3])\n",
      "\n",
      "Dimension: 2\n",
      "tensor([[12,  7],\n",
      "        [12, 17]])\n",
      "torch.Size([2, 2])\n"
     ]
    }
   ],
   "source": [
    "tensor = torch.tensor([\n",
    "    [[1, 2, 9], [3, 4, 0]],\n",
    "    [[5, 6, 1], [7, 8, 2]]\n",
    "])\n",
    "\n",
    "print(tensor.shape) # torch.Size([2, 2, 3])\n",
    "print()\n",
    "\n",
    "print(\"Dimension: 0\")\n",
    "dim0 = torch.sum(tensor, dim=0)\n",
    "print(dim0) # tensor([[ 6,  8, 10], [10, 12,  2]])\n",
    "print(dim0.shape) # torch.Size([2, 3])\n",
    "print()\n",
    "\n",
    "print(\"Dimension: 1\")\n",
    "dim1 = torch.sum(tensor, dim=1)\n",
    "print(dim1) # tensor([[ 4,  6,  9], [12, 14,  3]])\n",
    "print(dim1.shape) # torch.Size([2, 3])\n",
    "print()\n",
    "\n",
    "print(\"Dimension: 2\")\n",
    "dim2 = torch.sum(tensor, dim=2)\n",
    "print(dim2) # tensor([[12,  7], [12, 17]])\n",
    "print(dim2.shape) # torch.Size([2, 2])"
   ]
  },
  {
   "cell_type": "code",
   "execution_count": null,
   "metadata": {},
   "outputs": [
    {
     "name": "stdout",
     "output_type": "stream",
     "text": [
      "torch.Size([3, 2, 3, 2])\n",
      "\n",
      "Dimension: 0\n",
      "tensor([[[ 9, 12],\n",
      "         [15, 18],\n",
      "         [21, 14]],\n",
      "\n",
      "        [[17, 10],\n",
      "         [13, 16],\n",
      "         [ 9, 12]]])\n",
      "torch.Size([2, 3, 2])\n",
      "\n",
      "Dimension: 1\n",
      "tensor([[[ 8, 10],\n",
      "         [12, 14],\n",
      "         [ 6,  8]],\n",
      "\n",
      "        [[12,  4],\n",
      "         [ 6,  8],\n",
      "         [10, 12]],\n",
      "\n",
      "        [[ 6,  8],\n",
      "         [10, 12],\n",
      "         [14,  6]]])\n",
      "torch.Size([3, 3, 2])\n",
      "\n",
      "Dimension: 2\n",
      "tensor([[[ 9, 12],\n",
      "         [17, 20]],\n",
      "\n",
      "        [[15, 18],\n",
      "         [13,  6]],\n",
      "\n",
      "        [[21, 14],\n",
      "         [ 9, 12]]])\n",
      "torch.Size([3, 2, 2])\n",
      "\n",
      "Dimension: 3\n",
      "tensor([[[ 3,  7, 11],\n",
      "         [15, 19,  3]],\n",
      "\n",
      "        [[ 7, 11, 15],\n",
      "         [ 9,  3,  7]],\n",
      "\n",
      "        [[11, 15,  9],\n",
      "         [ 3,  7, 11]]])\n",
      "torch.Size([3, 2, 3])\n"
     ]
    }
   ],
   "source": [
    "tensor = torch.tensor([\n",
    "    [\n",
    "        [\n",
    "            [1, 2],\n",
    "            [3, 4],\n",
    "            [5, 6]\n",
    "        ],\n",
    "        [\n",
    "            [7, 8],\n",
    "            [9, 10],\n",
    "            [1, 2]\n",
    "        ]\n",
    "    ],\n",
    "    [\n",
    "        [\n",
    "            [3, 4],\n",
    "            [5, 6],\n",
    "            [7, 8]\n",
    "        ],\n",
    "        [\n",
    "            [9, 0],\n",
    "            [1, 2],\n",
    "            [3, 4]\n",
    "        ]\n",
    "    ],\n",
    "    [\n",
    "        [\n",
    "            [5, 6],\n",
    "            [7, 8],\n",
    "            [9, 0]\n",
    "        ],\n",
    "        [\n",
    "            [1, 2],\n",
    "            [3, 4],\n",
    "            [5, 6]\n",
    "        ]\n",
    "    ]\n",
    "])\n",
    "\n",
    "print(tensor.shape) # torch.tensor([3, 2, 3, 2])\n",
    "print()\n",
    "\n",
    "print(\"Dimension: 0\")\n",
    "dim0 = torch.sum(tensor, dim=0)\n",
    "print(dim0) # tensor([[[ 9, 12], [15, 18], [21, 14]], [[17, 10], [13, 16], [ 9, 12]]])\n",
    "print(dim0.shape) # torch.Size([2, 3, 2])\n",
    "print()\n",
    "\n",
    "print(\"Dimension: 1\")\n",
    "dim1 = torch.sum(tensor, dim=1)\n",
    "print(dim1) # tensor([[[ 8, 10], [12, 14], [ 6,  8]], [[12,  4], [ 6,  8], [10, 12]], [[ 6,  8], [10, 12], [14,  6]]])\n",
    "print(dim1.shape) # torch.Size([3, 3, 2])\n",
    "print()\n",
    "\n",
    "print(\"Dimension: 2\")\n",
    "dim2 = torch.sum(tensor, dim=2)\n",
    "print(dim2) # tensor([[[ 9, 12], [17, 20]], [[ 15, 18], [13, 6]], [[21, 14], [ 9, 12]]])\n",
    "print(dim2.shape) # torch.Size([3, 2, 2])\n",
    "print()\n",
    "\n",
    "print(\"Dimension: 3\")\n",
    "dim3 = torch.sum(tensor, dim=3)\n",
    "print(dim3) # tensor([[[ 3,  7, 11], [15, 19,  3]], [[ 7, 11, 15], [ 9,  3,  7]], [[11, 15,  9], [ 3,  7, 11]]])\n",
    "print(dim3.shape) # torch.Size([3, 2, 3])"
   ]
  },
  {
   "cell_type": "code",
   "execution_count": null,
   "metadata": {},
   "outputs": [
    {
     "name": "stdout",
     "output_type": "stream",
     "text": [
      "torch.Size([2, 2, 3])\n",
      "\n",
      "tensor([[ True, False,  True],\n",
      "        [False, False,  True]])\n",
      "torch.Size([2, 3])\n",
      "\n",
      "tensor([[ True, False,  True],\n",
      "        [False, False,  True]])\n",
      "torch.Size([2, 3])\n",
      "\n",
      "tensor([[ True,  True],\n",
      "        [ True, False]])\n",
      "torch.Size([2, 2])\n"
     ]
    }
   ],
   "source": [
    "tensor = torch.tensor([\n",
    "    [[1, 2, 9], [3, 4, 0]],\n",
    "    [[5, 6, 1], [7, 8, 2]]\n",
    "])\n",
    "\n",
    "print(tensor.shape) # torch.Size([2, 2, 3])\n",
    "print()\n",
    "\n",
    "dim0 = torch.any(tensor < 2, dim=0)\n",
    "print(dim0) # tensor([[True, False, True], [False, False, True]])\n",
    "print(dim0.shape) # torch.Size([2, 3])\n",
    "print()\n",
    "\n",
    "dim1 = torch.any(tensor < 2, dim=1)\n",
    "print(dim1) # tensor([[True, False, True], [False, False, True]])\n",
    "print(dim1.shape) # torch.Size([2, 3])\n",
    "print()\n",
    "\n",
    "dim2 = torch.any(tensor < 2, dim=2)\n",
    "print(dim2) # tensor([[True, True], [True, False]])\n",
    "print(dim2.shape) # torch.Size([2, 2])"
   ]
  },
  {
   "cell_type": "code",
   "execution_count": null,
   "metadata": {},
   "outputs": [],
   "source": []
  }
 ],
 "metadata": {
  "kernelspec": {
   "display_name": "general",
   "language": "python",
   "name": "python3"
  },
  "language_info": {
   "codemirror_mode": {
    "name": "ipython",
    "version": 3
   },
   "file_extension": ".py",
   "mimetype": "text/x-python",
   "name": "python",
   "nbconvert_exporter": "python",
   "pygments_lexer": "ipython3",
   "version": "3.10.14"
  }
 },
 "nbformat": 4,
 "nbformat_minor": 2
}
